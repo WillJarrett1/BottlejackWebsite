{
 "cells": [
  {
   "cell_type": "code",
   "execution_count": 1,
   "id": "26f215c4",
   "metadata": {},
   "outputs": [],
   "source": [
    "import requests\n",
    "import pandas as pd\n",
    "import os"
   ]
  },
  {
   "cell_type": "markdown",
   "id": "8bfe2ece",
   "metadata": {},
   "source": [
    "### grab info from api"
   ]
  },
  {
   "cell_type": "code",
   "execution_count": 2,
   "id": "56da7e98",
   "metadata": {
    "scrolled": true
   },
   "outputs": [
    {
     "name": "stdout",
     "output_type": "stream",
     "text": [
      "acquired members #0-20\n",
      "acquired members #20-40\n",
      "acquired members #40-60\n",
      "acquired members #60-80\n",
      "acquired members #80-100\n",
      "acquired members #100-120\n",
      "acquired members #120-140\n",
      "acquired members #140-160\n",
      "acquired members #160-180\n",
      "acquired members #180-200\n",
      "acquired members #200-220\n",
      "acquired members #220-240\n",
      "acquired members #240-260\n",
      "acquired members #260-280\n",
      "acquired members #280-300\n",
      "acquired members #300-320\n",
      "acquired members #320-340\n",
      "acquired members #340-360\n",
      "acquired members #360-380\n",
      "acquired members #380-400\n",
      "acquired members #400-420\n",
      "acquired members #420-440\n",
      "acquired members #440-460\n",
      "acquired members #460-480\n",
      "acquired members #480-500\n",
      "acquired members #500-520\n",
      "acquired members #520-540\n",
      "acquired members #540-560\n",
      "acquired members #560-580\n",
      "acquired members #580-600\n",
      "acquired members #600-620\n",
      "acquired members #620-640\n",
      "acquired members #640-660\n"
     ]
    }
   ],
   "source": [
    "#https://members-api.parliament.uk/index.html\n",
    "#set variables\n",
    "skip = 0\n",
    "take = 20\n",
    "all_members = []\n",
    "current_member = 'true'\n",
    "house = 1 #1 for commons, 2 for lords\n",
    "\n",
    "#iterate through each page\n",
    "while True:\n",
    "    url = (f\"https://members-api.parliament.uk/api/Members/Search?\" +\n",
    "    f\"IsCurrentMember={current_member}&\" +\n",
    "    f\"house={house}&\" +\n",
    "    f\"skip={skip}&take={take}\")\n",
    "    response = requests.get(url)\n",
    "\n",
    "    if response.status_code == 200: #if has found records\n",
    "        data = response.json()\n",
    "        members = data.get('items', [])\n",
    "        if not members:\n",
    "            break\n",
    "        all_members.extend(members)\n",
    "        print(f'acquired members #{skip}-{skip+take}')\n",
    "        skip += take\n",
    "    else:\n",
    "        print(f\"request failed: {response.status_code}\")\n",
    "        break"
   ]
  },
  {
   "cell_type": "markdown",
   "id": "ff4603c6",
   "metadata": {},
   "source": [
    "### format + hone data"
   ]
  },
  {
   "cell_type": "code",
   "execution_count": 3,
   "id": "e0221b62",
   "metadata": {},
   "outputs": [],
   "source": [
    "#put desired data in dataframe\n",
    "data = []\n",
    "for member in all_members:\n",
    "    _id = member['value']['id']\n",
    "    name = member['value']['nameDisplayAs']\n",
    "    party = member['value']['latestParty']['name']\n",
    "    party_colour = f\"#{member['value']['latestParty']['backgroundColour']}\"\n",
    "    constituency = member['value']['latestHouseMembership']['membershipFrom']\n",
    "    start_date = member['value']['latestHouseMembership']['membershipStartDate']\n",
    "    contact = f\"https://members.parliament.uk/member/{member['value']['id']}/contact\"\n",
    "    image_url = member['value']['thumbnailUrl']\n",
    "    \n",
    "    data.append({\n",
    "        'id': _id,\n",
    "        'name': name,\n",
    "        'party': party,\n",
    "        'party_colour': party_colour,\n",
    "        'constituency': constituency,\n",
    "        'start_date': start_date,\n",
    "        'contact': contact,\n",
    "        'image_url': image_url\n",
    "    })\n",
    "df = pd.DataFrame(data)"
   ]
  },
  {
   "cell_type": "code",
   "execution_count": 4,
   "id": "e4c8315e",
   "metadata": {
    "scrolled": false
   },
   "outputs": [],
   "source": [
    "#make dates more readable\n",
    "df['start_date_string'] = pd.to_datetime(df['start_date']).dt.strftime('%d %B, %Y')\n",
    "df['start_date_string'] = df['start_date_string'].str.lstrip('0')"
   ]
  },
  {
   "cell_type": "code",
   "execution_count": 5,
   "id": "99a92116",
   "metadata": {},
   "outputs": [],
   "source": [
    "#make column for initial order (last name alphabetical)\n",
    "df = df.reset_index()\n",
    "df = df.rename(columns={'index':'order'})"
   ]
  },
  {
   "cell_type": "code",
   "execution_count": 6,
   "id": "4f3f200c",
   "metadata": {},
   "outputs": [],
   "source": [
    "#reorder\n",
    "df = df[['order','id','name','party','party_colour','constituency','start_date','start_date_string','contact','image_url']]"
   ]
  },
  {
   "cell_type": "code",
   "execution_count": 7,
   "id": "3172eaa8",
   "metadata": {},
   "outputs": [
    {
     "data": {
      "text/html": [
       "<div>\n",
       "<style scoped>\n",
       "    .dataframe tbody tr th:only-of-type {\n",
       "        vertical-align: middle;\n",
       "    }\n",
       "\n",
       "    .dataframe tbody tr th {\n",
       "        vertical-align: top;\n",
       "    }\n",
       "\n",
       "    .dataframe thead th {\n",
       "        text-align: right;\n",
       "    }\n",
       "</style>\n",
       "<table border=\"1\" class=\"dataframe\">\n",
       "  <thead>\n",
       "    <tr style=\"text-align: right;\">\n",
       "      <th></th>\n",
       "      <th>order</th>\n",
       "      <th>id</th>\n",
       "      <th>name</th>\n",
       "      <th>party</th>\n",
       "      <th>party_colour</th>\n",
       "      <th>constituency</th>\n",
       "      <th>start_date</th>\n",
       "      <th>start_date_string</th>\n",
       "      <th>contact</th>\n",
       "      <th>image_url</th>\n",
       "    </tr>\n",
       "  </thead>\n",
       "  <tbody>\n",
       "    <tr>\n",
       "      <th>0</th>\n",
       "      <td>0</td>\n",
       "      <td>172</td>\n",
       "      <td>Ms Diane Abbott</td>\n",
       "      <td>Labour</td>\n",
       "      <td>#d50000</td>\n",
       "      <td>Hackney North and Stoke Newington</td>\n",
       "      <td>1987-06-11T00:00:00</td>\n",
       "      <td>11 June, 1987</td>\n",
       "      <td>https://members.parliament.uk/member/172/contact</td>\n",
       "      <td>https://members-api.parliament.uk/api/Members/...</td>\n",
       "    </tr>\n",
       "    <tr>\n",
       "      <th>1</th>\n",
       "      <td>1</td>\n",
       "      <td>5131</td>\n",
       "      <td>Jack Abbott</td>\n",
       "      <td>Labour (Co-op)</td>\n",
       "      <td>#d50000</td>\n",
       "      <td>Ipswich</td>\n",
       "      <td>2024-07-04T00:00:00</td>\n",
       "      <td>4 July, 2024</td>\n",
       "      <td>https://members.parliament.uk/member/5131/contact</td>\n",
       "      <td>https://members-api.parliament.uk/api/Members/...</td>\n",
       "    </tr>\n",
       "    <tr>\n",
       "      <th>2</th>\n",
       "      <td>2</td>\n",
       "      <td>4212</td>\n",
       "      <td>Debbie Abrahams</td>\n",
       "      <td>Labour</td>\n",
       "      <td>#d50000</td>\n",
       "      <td>Oldham East and Saddleworth</td>\n",
       "      <td>2011-01-13T00:00:00</td>\n",
       "      <td>13 January, 2011</td>\n",
       "      <td>https://members.parliament.uk/member/4212/contact</td>\n",
       "      <td>https://members-api.parliament.uk/api/Members/...</td>\n",
       "    </tr>\n",
       "    <tr>\n",
       "      <th>3</th>\n",
       "      <td>3</td>\n",
       "      <td>5120</td>\n",
       "      <td>Shockat Adam</td>\n",
       "      <td>Independent</td>\n",
       "      <td>#909090</td>\n",
       "      <td>Leicester South</td>\n",
       "      <td>2024-07-04T00:00:00</td>\n",
       "      <td>4 July, 2024</td>\n",
       "      <td>https://members.parliament.uk/member/5120/contact</td>\n",
       "      <td>https://members-api.parliament.uk/api/Members/...</td>\n",
       "    </tr>\n",
       "    <tr>\n",
       "      <th>4</th>\n",
       "      <td>4</td>\n",
       "      <td>5213</td>\n",
       "      <td>Dr Zubir Ahmed</td>\n",
       "      <td>Labour</td>\n",
       "      <td>#d50000</td>\n",
       "      <td>Glasgow South West</td>\n",
       "      <td>2024-07-04T00:00:00</td>\n",
       "      <td>4 July, 2024</td>\n",
       "      <td>https://members.parliament.uk/member/5213/contact</td>\n",
       "      <td>https://members-api.parliament.uk/api/Members/...</td>\n",
       "    </tr>\n",
       "  </tbody>\n",
       "</table>\n",
       "</div>"
      ],
      "text/plain": [
       "   order    id             name           party party_colour  \\\n",
       "0      0   172  Ms Diane Abbott          Labour      #d50000   \n",
       "1      1  5131      Jack Abbott  Labour (Co-op)      #d50000   \n",
       "2      2  4212  Debbie Abrahams          Labour      #d50000   \n",
       "3      3  5120     Shockat Adam     Independent      #909090   \n",
       "4      4  5213   Dr Zubir Ahmed          Labour      #d50000   \n",
       "\n",
       "                        constituency           start_date start_date_string  \\\n",
       "0  Hackney North and Stoke Newington  1987-06-11T00:00:00     11 June, 1987   \n",
       "1                            Ipswich  2024-07-04T00:00:00      4 July, 2024   \n",
       "2        Oldham East and Saddleworth  2011-01-13T00:00:00  13 January, 2011   \n",
       "3                    Leicester South  2024-07-04T00:00:00      4 July, 2024   \n",
       "4                 Glasgow South West  2024-07-04T00:00:00      4 July, 2024   \n",
       "\n",
       "                                             contact  \\\n",
       "0   https://members.parliament.uk/member/172/contact   \n",
       "1  https://members.parliament.uk/member/5131/contact   \n",
       "2  https://members.parliament.uk/member/4212/contact   \n",
       "3  https://members.parliament.uk/member/5120/contact   \n",
       "4  https://members.parliament.uk/member/5213/contact   \n",
       "\n",
       "                                           image_url  \n",
       "0  https://members-api.parliament.uk/api/Members/...  \n",
       "1  https://members-api.parliament.uk/api/Members/...  \n",
       "2  https://members-api.parliament.uk/api/Members/...  \n",
       "3  https://members-api.parliament.uk/api/Members/...  \n",
       "4  https://members-api.parliament.uk/api/Members/...  "
      ]
     },
     "execution_count": 7,
     "metadata": {},
     "output_type": "execute_result"
    }
   ],
   "source": [
    "df.head()"
   ]
  },
  {
   "cell_type": "markdown",
   "id": "fc3d8203",
   "metadata": {},
   "source": [
    "### download images locally"
   ]
  },
  {
   "cell_type": "code",
   "execution_count": 8,
   "id": "c09e1a48",
   "metadata": {},
   "outputs": [],
   "source": [
    "#make folder\n",
    "images_folder = 'table/images'\n",
    "if not os.path.exists(images_folder):\n",
    "    os.makedirs(images_folder)"
   ]
  },
  {
   "cell_type": "code",
   "execution_count": 9,
   "id": "16a2098c",
   "metadata": {},
   "outputs": [],
   "source": [
    "#iterate through + download images\n",
    "for idx, row in df.iterrows():\n",
    "    filename = f\"{row['id']}_thumbnail.jpg\"\n",
    "    image_path = os.path.join(images_folder, filename)\n",
    "    with requests.get(row['image_url'], stream=True) as request:\n",
    "        with open(image_path, 'wb') as file:\n",
    "            file.write(request.content)"
   ]
  },
  {
   "cell_type": "markdown",
   "id": "f3f4c8d0",
   "metadata": {},
   "source": [
    "### export dataframe"
   ]
  },
  {
   "cell_type": "code",
   "execution_count": 10,
   "id": "bcc1595d",
   "metadata": {},
   "outputs": [],
   "source": [
    "df.to_json('table/data/data.json', orient='table', index=False)"
   ]
  },
  {
   "cell_type": "code",
   "execution_count": 11,
   "id": "d5d54c68",
   "metadata": {},
   "outputs": [],
   "source": [
    "#export csv download\n",
    "dfExport = df[['name','party','constituency','start_date_string','contact','image_url']]\n",
    "dfExport.to_csv('table/data/members_of_parliament_2024.csv')"
   ]
  },
  {
   "cell_type": "code",
   "execution_count": null,
   "id": "97d8308e",
   "metadata": {},
   "outputs": [],
   "source": []
  }
 ],
 "metadata": {
  "kernelspec": {
   "display_name": "Python 3 (ipykernel)",
   "language": "python",
   "name": "python3"
  },
  "language_info": {
   "codemirror_mode": {
    "name": "ipython",
    "version": 3
   },
   "file_extension": ".py",
   "mimetype": "text/x-python",
   "name": "python",
   "nbconvert_exporter": "python",
   "pygments_lexer": "ipython3",
   "version": "3.10.1"
  }
 },
 "nbformat": 4,
 "nbformat_minor": 5
}
