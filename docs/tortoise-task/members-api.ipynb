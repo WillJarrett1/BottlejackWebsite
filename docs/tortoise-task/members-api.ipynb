{
 "cells": [
  {
   "cell_type": "code",
   "execution_count": null,
   "id": "26f215c4",
   "metadata": {},
   "outputs": [],
   "source": [
    "import requests\n",
    "import pandas as pd\n",
    "import os"
   ]
  },
  {
   "cell_type": "markdown",
   "id": "8bfe2ece",
   "metadata": {},
   "source": [
    "### grab info from api"
   ]
  },
  {
   "cell_type": "code",
   "execution_count": null,
   "id": "56da7e98",
   "metadata": {
    "scrolled": true
   },
   "outputs": [],
   "source": [
    "#https://members-api.parliament.uk/index.html\n",
    "#set variables\n",
    "skip = 0\n",
    "take = 20\n",
    "all_members = []\n",
    "current_member = 'true'\n",
    "house = 1 #1 for commons, 2 for lords\n",
    "\n",
    "#iterate through each page\n",
    "while True:\n",
    "    url = (f\"https://members-api.parliament.uk/api/Members/Search?\" +\n",
    "    f\"IsCurrentMember={current_member}&\" +\n",
    "    f\"house={house}&\" +\n",
    "    f\"skip={skip}&take={take}\")\n",
    "    response = requests.get(url)\n",
    "\n",
    "    if response.status_code == 200: #if has found records\n",
    "        data = response.json()\n",
    "        members = data.get('items', [])\n",
    "        if not members:\n",
    "            break\n",
    "        all_members.extend(members)\n",
    "        print(f'acquired members #{skip}-{skip+take}')\n",
    "        skip += take\n",
    "    else:\n",
    "        print(f\"request failed: {response.status_code}\")\n",
    "        break"
   ]
  },
  {
   "cell_type": "markdown",
   "id": "ff4603c6",
   "metadata": {},
   "source": [
    "### format + hone data"
   ]
  },
  {
   "cell_type": "code",
   "execution_count": null,
   "id": "e0221b62",
   "metadata": {},
   "outputs": [],
   "source": [
    "#put desired data in dataframe\n",
    "data = []\n",
    "for member in all_members:\n",
    "    _id = member['value']['id']\n",
    "    name = member['value']['nameDisplayAs']\n",
    "    party = member['value']['latestParty']['name']\n",
    "    party_colour = f\"#{member['value']['latestParty']['backgroundColour']}\"\n",
    "    constituency = member['value']['latestHouseMembership']['membershipFrom']\n",
    "    start_date = member['value']['latestHouseMembership']['membershipStartDate']\n",
    "    contact = f\"https://members.parliament.uk/member/{member['value']['id']}/contact\"\n",
    "    image_url = member['value']['thumbnailUrl']\n",
    "    \n",
    "    data.append({\n",
    "        'id': _id,\n",
    "        'name': name,\n",
    "        'party': party,\n",
    "        'party_colour': party_colour,\n",
    "        'constituency': constituency,\n",
    "        'start_date': start_date,\n",
    "        'contact': contact,\n",
    "        'image_url': image_url\n",
    "    })\n",
    "df = pd.DataFrame(data)"
   ]
  },
  {
   "cell_type": "code",
   "execution_count": null,
   "id": "e4c8315e",
   "metadata": {
    "scrolled": false
   },
   "outputs": [],
   "source": [
    "#make dates more readable\n",
    "df['start_date_string'] = pd.to_datetime(df['start_date']).dt.strftime('%d %B, %Y')\n",
    "df['start_date_string'] = df['start_date_string'].str.lstrip('0')"
   ]
  },
  {
   "cell_type": "code",
   "execution_count": null,
   "id": "99a92116",
   "metadata": {},
   "outputs": [],
   "source": [
    "#make column for initial order (last name alphabetical)\n",
    "df = df.reset_index()\n",
    "df = df.rename(columns={'index':'order'})"
   ]
  },
  {
   "cell_type": "code",
   "execution_count": null,
   "id": "4f3f200c",
   "metadata": {},
   "outputs": [],
   "source": [
    "#reorder\n",
    "df = df[['order','id','name','party','party_colour','constituency','start_date','start_date_string','contact','image_url']]"
   ]
  },
  {
   "cell_type": "code",
   "execution_count": null,
   "id": "3172eaa8",
   "metadata": {},
   "outputs": [],
   "source": [
    "df.head()"
   ]
  },
  {
   "cell_type": "markdown",
   "id": "fc3d8203",
   "metadata": {},
   "source": [
    "### download images locally"
   ]
  },
  {
   "cell_type": "code",
   "execution_count": null,
   "id": "c09e1a48",
   "metadata": {},
   "outputs": [],
   "source": [
    "#make thumbnails folder\n",
    "if not os.path.exists(images_folder):\n",
    "    os.makedirs(images_folder)\n",
    "images_folder = 'table/images/thumbnails'\n",
    "if not os.path.exists(images_folder):\n",
    "    os.makedirs(images_folder)"
   ]
  },
  {
   "cell_type": "code",
   "execution_count": null,
   "id": "16a2098c",
   "metadata": {},
   "outputs": [],
   "source": [
    "#iterate through + download images\n",
    "for idx, row in df.iterrows():\n",
    "    filename = f\"{row['id']}_thumbnail.jpg\"\n",
    "    image_path = os.path.join(images_folder, filename)\n",
    "    with requests.get(row['image_url'], stream=True) as request:\n",
    "        with open(image_path, 'wb') as file:\n",
    "            file.write(request.content)"
   ]
  },
  {
   "cell_type": "code",
   "execution_count": null,
   "id": "10862c94",
   "metadata": {},
   "outputs": [],
   "source": [
    "#resize images\n",
    "from PIL import Image\n",
    "from io import BytesIO\n",
    "\n",
    "for idx, row in df.iterrows():\n",
    "    filename = f\"{row['id']}_thumbnail.jpg\"\n",
    "    image_path = os.path.join(images_folder, filename)\n",
    "    \n",
    "    with requests.get(row['image_url'], stream=True) as request:\n",
    "        if request.status_code == 200:\n",
    "            image = Image.open(BytesIO(request.content))\n",
    "            if image.mode in ('RGBA', 'P'):\n",
    "                image = image.convert('RGB')\n",
    "            aspect_ratio = image.width / image.height\n",
    "            new_height = int(180 / aspect_ratio)\n",
    "            image = image.resize((180, new_height), Image.LANCZOS)\n",
    "            image.save(image_path, format='JPEG')"
   ]
  },
  {
   "cell_type": "markdown",
   "id": "f3f4c8d0",
   "metadata": {},
   "source": [
    "### export dataframe"
   ]
  },
  {
   "cell_type": "code",
   "execution_count": null,
   "id": "bcc1595d",
   "metadata": {},
   "outputs": [],
   "source": [
    "df.to_json('table/data/data.json', orient='table', index=False)"
   ]
  },
  {
   "cell_type": "code",
   "execution_count": null,
   "id": "d5d54c68",
   "metadata": {},
   "outputs": [],
   "source": [
    "#export csv download\n",
    "dfExport = df[['name','party','constituency','start_date_string','contact','image_url']]\n",
    "dfExport.to_csv('table/data/members_of_parliament_2024.csv')"
   ]
  },
  {
   "cell_type": "code",
   "execution_count": null,
   "id": "97d8308e",
   "metadata": {},
   "outputs": [],
   "source": []
  }
 ],
 "metadata": {
  "kernelspec": {
   "display_name": "Python 3 (ipykernel)",
   "language": "python",
   "name": "python3"
  },
  "language_info": {
   "codemirror_mode": {
    "name": "ipython",
    "version": 3
   },
   "file_extension": ".py",
   "mimetype": "text/x-python",
   "name": "python",
   "nbconvert_exporter": "python",
   "pygments_lexer": "ipython3",
   "version": "3.10.1"
  }
 },
 "nbformat": 4,
 "nbformat_minor": 5
}
